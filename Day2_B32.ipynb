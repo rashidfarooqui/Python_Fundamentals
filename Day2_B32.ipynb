{
 "cells": [
  {
   "cell_type": "code",
   "execution_count": null,
   "metadata": {},
   "outputs": [],
   "source": [
    "Introduction to Variables in Pyhton"
   ]
  },
  {
   "cell_type": "code",
   "execution_count": 2,
   "metadata": {},
   "outputs": [
    {
     "name": "stdout",
     "output_type": "stream",
     "text": [
      "8\n"
     ]
    }
   ],
   "source": [
    "x=3\n",
    "y=5\n",
    "print(x+y)"
   ]
  },
  {
   "cell_type": "code",
   "execution_count": 8,
   "metadata": {},
   "outputs": [
    {
     "ename": "SyntaxError",
     "evalue": "invalid syntax (<ipython-input-8-ac3c7637c521>, line 1)",
     "output_type": "error",
     "traceback": [
      "\u001b[0;36m  File \u001b[0;32m\"<ipython-input-8-ac3c7637c521>\"\u001b[0;36m, line \u001b[0;32m1\u001b[0m\n\u001b[0;31m    Rules for declaring the Variables in python\u001b[0m\n\u001b[0m          ^\u001b[0m\n\u001b[0;31mSyntaxError\u001b[0m\u001b[0;31m:\u001b[0m invalid syntax\n"
     ]
    }
   ],
   "source": [
    "Rules for declaring the Variables in python\n",
    "Rule no 1: No namespaces while declaring the variable\n",
    "    first name='Rashid'\n",
    "    You can define by using the below syntax\n",
    "    first_name='Rashid'\n",
    "        print(first_name)\n",
    "\n",
    "Rule no 2: You should not start a Variable name with a number\n",
    "    1name='Rashid'--> wrong\n",
    "    You can define it by using below syntax\n",
    "    name1='Rashid'--> right way\n",
    "    \n",
    "Rule no 3: Varibale name should not include any special character\n",
    "    eg: name@='Rashid'--> wrong"
   ]
  },
  {
   "cell_type": "code",
   "execution_count": null,
   "metadata": {},
   "outputs": [],
   "source": [
    "Inroduction to Data Types in Python\n",
    "1.String   str\n",
    "2.Numbers  int and float\n",
    "3.List     list\n",
    "4.Tuples   tuple\n",
    "5.Dictionary dict"
   ]
  },
  {
   "cell_type": "code",
   "execution_count": null,
   "metadata": {},
   "outputs": [],
   "source": [
    "Classification of Data Types\n",
    "Two different Categories\n",
    "1. Mutable:   Which we are able to edit or alter after data type has been declared\n",
    "2. Immutable: Which we are not able to edit or alter"
   ]
  },
  {
   "cell_type": "code",
   "execution_count": null,
   "metadata": {},
   "outputs": [],
   "source": [
    "Intoduction to String Data Type\n",
    "Definition: String is a series of characters declared in quotes\n",
    "Classification: It has been classified as an Immutable data type\n",
    "Declartion: Can be done in 3 differnet ways\n",
    "    1.'Rashid'\n",
    "    2.\"Rashid\"\n",
    "    3.\"\"\"Rashid\"\"\""
   ]
  },
  {
   "cell_type": "code",
   "execution_count": null,
   "metadata": {},
   "outputs": [],
   "source": [
    "Introduction to String Methods\n",
    "type Used to find the Data type of a variable"
   ]
  }
 ],
 "metadata": {
  "kernelspec": {
   "display_name": "Python 3",
   "language": "python",
   "name": "python3"
  },
  "language_info": {
   "codemirror_mode": {
    "name": "ipython",
    "version": 3
   },
   "file_extension": ".py",
   "mimetype": "text/x-python",
   "name": "python",
   "nbconvert_exporter": "python",
   "pygments_lexer": "ipython3",
   "version": "3.8.5"
  }
 },
 "nbformat": 4,
 "nbformat_minor": 4
}
